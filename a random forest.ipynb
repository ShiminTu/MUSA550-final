{
 "cells": [
  {
   "cell_type": "code",
   "execution_count": 134,
   "id": "0a5ce147",
   "metadata": {},
   "outputs": [],
   "source": [
    "import pandas as pd\n",
    "import geopandas as gpd\n",
    "import numpy as np"
   ]
  },
  {
   "cell_type": "code",
   "execution_count": 3,
   "id": "881f3291",
   "metadata": {},
   "outputs": [],
   "source": [
    "intersection = pd.read_csv(\"./intersection.csv\")"
   ]
  },
  {
   "cell_type": "code",
   "execution_count": 12,
   "id": "f6c35b6c",
   "metadata": {},
   "outputs": [],
   "source": [
    "# convert df to gdf\n",
    "from shapely import wkt\n",
    "\n",
    "intersection['geometry'] = gpd.GeoSeries.from_wkt(intersection['geometry'])"
   ]
  },
  {
   "cell_type": "code",
   "execution_count": 13,
   "id": "d53c1602",
   "metadata": {
    "scrolled": true
   },
   "outputs": [],
   "source": [
    "intersection = gpd.GeoDataFrame(intersection, geometry=intersection['geometry'], crs='EPSG:32618')"
   ]
  },
  {
   "cell_type": "code",
   "execution_count": 17,
   "id": "38387339",
   "metadata": {},
   "outputs": [],
   "source": [
    "# calculate area of each intersection\n",
    "intersection['area'] = intersection.geometry.area"
   ]
  },
  {
   "cell_type": "code",
   "execution_count": 24,
   "id": "00062e2c",
   "metadata": {},
   "outputs": [],
   "source": [
    "# aggregate the land cover in each vacant land\n",
    "grouped_intersection =  intersection.groupby(['OBJECTID', 'gridcode'],)['area'].sum().reset_index()"
   ]
  },
  {
   "cell_type": "code",
   "execution_count": 39,
   "id": "3354a8fe",
   "metadata": {},
   "outputs": [],
   "source": [
    "intersection_wide = grouped_intersection.pivot(index='OBJECTID', columns='gridcode', values='area').fillna(0)"
   ]
  },
  {
   "cell_type": "code",
   "execution_count": 101,
   "id": "1ff1b3b8",
   "metadata": {},
   "outputs": [],
   "source": [
    "# rename the grid code\n",
    "intersection_rename = intersection_wide.rename({1: 'tree canopy', 2: 'grass/shrub',3: 'bare earth',4: 'water',5: 'buildings',7: 'other paved surfaces'}, axis=1) "
   ]
  },
  {
   "cell_type": "markdown",
   "id": "f18d18b1",
   "metadata": {},
   "source": [
    "(1) tree canopy, (2) grass/shrub, (3) bare earth, (4) water, (5) buildings, (6) roads, and (7) other paved surfaces"
   ]
  },
  {
   "cell_type": "code",
   "execution_count": 112,
   "id": "3cde5b78",
   "metadata": {},
   "outputs": [],
   "source": [
    "# merge vacant land data\n",
    "vacant_land_na = pd.read_csv('./vacant_land_na.csv')\n",
    "vacant_land_na['geometry'] = gpd.GeoSeries.from_wkt(vacant_land_na['geometry'])\n",
    "vacant_land_na = gpd.GeoDataFrame(vacant_land_na, geometry=vacant_land_na['geometry'], crs='EPSG:32618')"
   ]
  },
  {
   "cell_type": "code",
   "execution_count": 113,
   "id": "e1fad78e",
   "metadata": {},
   "outputs": [],
   "source": [
    "# calculate the gross area of each vacant land\n",
    "vacant_land_na['gross area'] = vacant_land_na.geometry.area"
   ]
  },
  {
   "cell_type": "code",
   "execution_count": 114,
   "id": "c576f921",
   "metadata": {},
   "outputs": [],
   "source": [
    "# merge the landcover and vacant land data\n",
    "intersection_merge = pd.merge(intersection_rename,vacant_land_na,on = 'OBJECTID')"
   ]
  },
  {
   "cell_type": "code",
   "execution_count": 120,
   "id": "d019ceee",
   "metadata": {},
   "outputs": [],
   "source": [
    "# calculate the proportion\n",
    "intersection_merge['tree canopy %'] = intersection_merge['tree canopy']/intersection_merge['gross area']\n",
    "intersection_merge['grass/shrub %'] = intersection_merge['grass/shrub']/intersection_merge['gross area']\n",
    "intersection_merge['bare earth %'] = intersection_merge['bare earth']/intersection_merge['gross area']\n",
    "intersection_merge['water %'] = intersection_merge['water']/intersection_merge['gross area']\n",
    "intersection_merge['buildings %'] = intersection_merge['buildings']/intersection_merge['gross area']\n",
    "intersection_merge['other paved surfaces %'] = intersection_merge['other paved surfaces']/intersection_merge['gross area']\n"
   ]
  },
  {
   "cell_type": "code",
   "execution_count": 125,
   "id": "9339fcec",
   "metadata": {},
   "outputs": [],
   "source": [
    "cols = ['OBJECTID','tree canopy %','grass/shrub %','bare earth %','water %','buildings %','other paved surfaces %','median_t']"
   ]
  },
  {
   "cell_type": "code",
   "execution_count": 127,
   "id": "df4e392b",
   "metadata": {},
   "outputs": [],
   "source": [
    "temp_cover = intersection_merge[cols].dropna()"
   ]
  },
  {
   "cell_type": "code",
   "execution_count": 129,
   "id": "8f5d5ee2",
   "metadata": {
    "scrolled": true
   },
   "outputs": [
    {
     "data": {
      "text/html": [
       "<div>\n",
       "<style scoped>\n",
       "    .dataframe tbody tr th:only-of-type {\n",
       "        vertical-align: middle;\n",
       "    }\n",
       "\n",
       "    .dataframe tbody tr th {\n",
       "        vertical-align: top;\n",
       "    }\n",
       "\n",
       "    .dataframe thead th {\n",
       "        text-align: right;\n",
       "    }\n",
       "</style>\n",
       "<table border=\"1\" class=\"dataframe\">\n",
       "  <thead>\n",
       "    <tr style=\"text-align: right;\">\n",
       "      <th></th>\n",
       "      <th>OBJECTID</th>\n",
       "      <th>tree canopy %</th>\n",
       "      <th>grass/shrub %</th>\n",
       "      <th>bare earth %</th>\n",
       "      <th>water %</th>\n",
       "      <th>buildings %</th>\n",
       "      <th>other paved surfaces %</th>\n",
       "      <th>median_t</th>\n",
       "    </tr>\n",
       "  </thead>\n",
       "  <tbody>\n",
       "    <tr>\n",
       "      <th>0</th>\n",
       "      <td>78</td>\n",
       "      <td>0.000000</td>\n",
       "      <td>0.171653</td>\n",
       "      <td>0.0</td>\n",
       "      <td>0.0</td>\n",
       "      <td>0.412690</td>\n",
       "      <td>0.415657</td>\n",
       "      <td>22.095707</td>\n",
       "    </tr>\n",
       "    <tr>\n",
       "      <th>1</th>\n",
       "      <td>150</td>\n",
       "      <td>0.184000</td>\n",
       "      <td>0.140671</td>\n",
       "      <td>0.0</td>\n",
       "      <td>0.0</td>\n",
       "      <td>0.583335</td>\n",
       "      <td>0.091994</td>\n",
       "      <td>28.064859</td>\n",
       "    </tr>\n",
       "    <tr>\n",
       "      <th>2</th>\n",
       "      <td>166</td>\n",
       "      <td>0.385852</td>\n",
       "      <td>0.142999</td>\n",
       "      <td>0.0</td>\n",
       "      <td>0.0</td>\n",
       "      <td>0.329685</td>\n",
       "      <td>0.141463</td>\n",
       "      <td>25.787609</td>\n",
       "    </tr>\n",
       "    <tr>\n",
       "      <th>3</th>\n",
       "      <td>185</td>\n",
       "      <td>0.771312</td>\n",
       "      <td>0.015409</td>\n",
       "      <td>0.0</td>\n",
       "      <td>0.0</td>\n",
       "      <td>0.196072</td>\n",
       "      <td>0.017207</td>\n",
       "      <td>25.520082</td>\n",
       "    </tr>\n",
       "    <tr>\n",
       "      <th>4</th>\n",
       "      <td>274</td>\n",
       "      <td>0.079999</td>\n",
       "      <td>0.023493</td>\n",
       "      <td>0.0</td>\n",
       "      <td>0.0</td>\n",
       "      <td>0.446899</td>\n",
       "      <td>0.449610</td>\n",
       "      <td>19.906439</td>\n",
       "    </tr>\n",
       "  </tbody>\n",
       "</table>\n",
       "</div>"
      ],
      "text/plain": [
       "   OBJECTID  tree canopy %  grass/shrub %  bare earth %  water %  buildings %  \\\n",
       "0        78       0.000000       0.171653           0.0      0.0     0.412690   \n",
       "1       150       0.184000       0.140671           0.0      0.0     0.583335   \n",
       "2       166       0.385852       0.142999           0.0      0.0     0.329685   \n",
       "3       185       0.771312       0.015409           0.0      0.0     0.196072   \n",
       "4       274       0.079999       0.023493           0.0      0.0     0.446899   \n",
       "\n",
       "   other paved surfaces %   median_t  \n",
       "0                0.415657  22.095707  \n",
       "1                0.091994  28.064859  \n",
       "2                0.141463  25.787609  \n",
       "3                0.017207  25.520082  \n",
       "4                0.449610  19.906439  "
      ]
     },
     "execution_count": 129,
     "metadata": {},
     "output_type": "execute_result"
    }
   ],
   "source": [
    "temp_cover.head()"
   ]
  },
  {
   "cell_type": "markdown",
   "id": "20f1b2fe",
   "metadata": {},
   "source": [
    "Train a random forest"
   ]
  },
  {
   "cell_type": "code",
   "execution_count": 131,
   "id": "d276f0c3",
   "metadata": {},
   "outputs": [],
   "source": [
    "# from sklearn.linear_model import LinearRegression\n",
    "from sklearn.ensemble import RandomForestRegressor\n",
    "\n",
    "# Model selection\n",
    "from sklearn.model_selection import train_test_split\n",
    "\n",
    "# Pipelines\n",
    "from sklearn.pipeline import make_pipeline\n",
    "\n",
    "# Preprocessing\n",
    "from sklearn.preprocessing import StandardScaler, PolynomialFeatures,OneHotEncoder\n",
    "from sklearn.compose import ColumnTransformer"
   ]
  },
  {
   "cell_type": "code",
   "execution_count": 138,
   "id": "b4e2bafa",
   "metadata": {},
   "outputs": [],
   "source": [
    "fea_cols = ['tree canopy %',\n",
    "            'grass/shrub %',\n",
    "            'bare earth %',\n",
    "            'water %',\n",
    "            'buildings %',\n",
    "            'other paved surfaces %',\n",
    "            'median_t']"
   ]
  },
  {
   "cell_type": "code",
   "execution_count": 132,
   "id": "b0a9f674",
   "metadata": {},
   "outputs": [],
   "source": [
    "# Do a 70/30 train/test split\n",
    "train_set, test_set = train_test_split(temp_cover, test_size=0.3, random_state=42)"
   ]
  },
  {
   "cell_type": "code",
   "execution_count": 135,
   "id": "efa72b17",
   "metadata": {},
   "outputs": [],
   "source": [
    "# Labels: log of sale prices\n",
    "y_train = np.log(train_set[\"median_t\"])\n",
    "y_test = np.log(test_set[\"median_t\"])"
   ]
  },
  {
   "cell_type": "code",
   "execution_count": 142,
   "id": "41275320",
   "metadata": {},
   "outputs": [],
   "source": [
    "# Features\n",
    "x_train = train_set[fea_cols] \n",
    "x_test = test_set[fea_cols]"
   ]
  },
  {
   "cell_type": "code",
   "execution_count": 139,
   "id": "53007b36",
   "metadata": {},
   "outputs": [],
   "source": [
    "# Set up the column transformer with a transformer\n",
    "transformer = ColumnTransformer(\n",
    "    transformers=[\n",
    "        (\"num\", StandardScaler(), fea_cols),\n",
    "    ]\n",
    ")"
   ]
  },
  {
   "cell_type": "code",
   "execution_count": 144,
   "id": "d967ab20",
   "metadata": {},
   "outputs": [],
   "source": [
    "pipe = make_pipeline(\n",
    "    transformer, RandomForestRegressor(random_state=42)\n",
    ")"
   ]
  },
  {
   "cell_type": "code",
   "execution_count": 145,
   "id": "1aea4a47",
   "metadata": {},
   "outputs": [
    {
     "name": "stdout",
     "output_type": "stream",
     "text": [
      "Test Score = 0.9976.\n"
     ]
    }
   ],
   "source": [
    "# Fit the training set\n",
    "pipe.fit(x_train, y_train);\n",
    "score = pipe.score(x_test, y_test);\n",
    "print(f\"Test Score = {score:0.4f}.\")"
   ]
  },
  {
   "cell_type": "code",
   "execution_count": 146,
   "id": "5438041e",
   "metadata": {},
   "outputs": [
    {
     "data": {
      "text/plain": [
       "GridSearchCV(cv=3,\n",
       "             estimator=Pipeline(steps=[('columntransformer',\n",
       "                                        ColumnTransformer(transformers=[('num',\n",
       "                                                                         StandardScaler(),\n",
       "                                                                         ['tree '\n",
       "                                                                          'canopy '\n",
       "                                                                          '%',\n",
       "                                                                          'grass/shrub '\n",
       "                                                                          '%',\n",
       "                                                                          'bare '\n",
       "                                                                          'earth '\n",
       "                                                                          '%',\n",
       "                                                                          'water '\n",
       "                                                                          '%',\n",
       "                                                                          'buildings '\n",
       "                                                                          '%',\n",
       "                                                                          'other '\n",
       "                                                                          'paved '\n",
       "                                                                          'surfaces '\n",
       "                                                                          '%',\n",
       "                                                                          'median_t'])])),\n",
       "                                       ('randomforestregressor',\n",
       "                                        RandomForestRegressor(random_state=42))]),\n",
       "             param_grid={'randomforestregressor__max_depth': [2, 5, 7, 9, 13,\n",
       "                                                              21, 33, 51],\n",
       "                         'randomforestregressor__n_estimators': [5, 10, 15, 20,\n",
       "                                                                 30, 50, 100,\n",
       "                                                                 200]})"
      ]
     },
     "execution_count": 146,
     "metadata": {},
     "output_type": "execute_result"
    }
   ],
   "source": [
    "# k-fold cross validation with GridSearchCV\n",
    "from sklearn.model_selection import GridSearchCV\n",
    "# create a pipeline\n",
    "pipe_cv = make_pipeline(transformer, RandomForestRegressor(random_state=42))\n",
    "\n",
    "model_step = \"randomforestregressor\"\n",
    "param_grid = {\n",
    "    f\"{model_step}__n_estimators\": [5, 10, 15, 20, 30, 50, 100, 200],\n",
    "    f\"{model_step}__max_depth\": [2, 5, 7, 9, 13, 21, 33, 51],\n",
    "}\n",
    "\n",
    "# Create the grid and use 3-fold CV\n",
    "grid = GridSearchCV(pipe_cv, param_grid, cv=3)\n",
    "\n",
    "# Run the search\n",
    "grid.fit(x_train, y_train)"
   ]
  },
  {
   "cell_type": "code",
   "execution_count": 147,
   "id": "6f695f95",
   "metadata": {},
   "outputs": [
    {
     "data": {
      "text/plain": [
       "Pipeline(steps=[('columntransformer',\n",
       "                 ColumnTransformer(transformers=[('num', StandardScaler(),\n",
       "                                                  ['tree canopy %',\n",
       "                                                   'grass/shrub %',\n",
       "                                                   'bare earth %', 'water %',\n",
       "                                                   'buildings %',\n",
       "                                                   'other paved surfaces %',\n",
       "                                                   'median_t'])])),\n",
       "                ('randomforestregressor',\n",
       "                 RandomForestRegressor(max_depth=13, n_estimators=200,\n",
       "                                       random_state=42))])"
      ]
     },
     "execution_count": 147,
     "metadata": {},
     "output_type": "execute_result"
    }
   ],
   "source": [
    "# The best estimator\n",
    "grid.best_estimator_"
   ]
  },
  {
   "cell_type": "code",
   "execution_count": 148,
   "id": "e0f0d0e8",
   "metadata": {},
   "outputs": [],
   "source": [
    "def evaluate(model, X_test, y_test):\n",
    "    \"\"\"\n",
    "    Given a model and test features/targets, print out the \n",
    "    mean absolute error and accuracy\n",
    "    \"\"\"\n",
    "    # Make the predictions\n",
    "    predictions = model.predict(X_test)\n",
    "\n",
    "    # Absolute error\n",
    "    errors = abs(predictions - y_test)\n",
    "    avg_error = np.mean(errors)\n",
    "\n",
    "    # Mean absolute percentage error\n",
    "    mape = 100 * np.mean(errors / y_test)\n",
    "\n",
    "    # Accuracy\n",
    "    accuracy = 100 - mape\n",
    "\n",
    "    print(\"Model Performance\")\n",
    "    print(f\"Average Absolute Error: {avg_error:0.4f}\")\n",
    "    print(f\"Accuracy = {accuracy:0.2f}%.\")\n",
    "\n",
    "    return accuracy"
   ]
  },
  {
   "cell_type": "code",
   "execution_count": 149,
   "id": "4c4531c5",
   "metadata": {},
   "outputs": [
    {
     "name": "stdout",
     "output_type": "stream",
     "text": [
      "Model Performance\n",
      "Average Absolute Error: 0.0029\n",
      "Accuracy = 99.91%.\n"
     ]
    }
   ],
   "source": [
    "# Evaluate the best random forest model\n",
    "best_random = grid.best_estimator_\n",
    "random_accuracy = evaluate(best_random,x_test, y_test)"
   ]
  },
  {
   "cell_type": "code",
   "execution_count": 150,
   "id": "b96b8ca2",
   "metadata": {},
   "outputs": [
    {
     "name": "stdout",
     "output_type": "stream",
     "text": [
      "Test Score of the best model = 0.9976.\n"
     ]
    }
   ],
   "source": [
    "best_score = best_random.score(x_test, y_test)\n",
    "print(f\"Test Score of the best model = {best_score:0.4f}.\")"
   ]
  },
  {
   "cell_type": "markdown",
   "id": "b04809c1",
   "metadata": {},
   "source": [
    "The model is best_random"
   ]
  },
  {
   "cell_type": "code",
   "execution_count": 151,
   "id": "229219dc",
   "metadata": {},
   "outputs": [],
   "source": [
    "# make predictions on the test set with the best_random model \n",
    "y_pred = best_random.predict(x_test)\n",
    "y_pred = np.exp(y_pred)\n",
    "# convert prediction outcome to a dataframe\n",
    "test_pre = pd.DataFrame( { 'prediction': pd.Series(y_pred)} )"
   ]
  },
  {
   "cell_type": "code",
   "execution_count": 152,
   "id": "d7e75c57",
   "metadata": {},
   "outputs": [
    {
     "data": {
      "text/html": [
       "<div>\n",
       "<style scoped>\n",
       "    .dataframe tbody tr th:only-of-type {\n",
       "        vertical-align: middle;\n",
       "    }\n",
       "\n",
       "    .dataframe tbody tr th {\n",
       "        vertical-align: top;\n",
       "    }\n",
       "\n",
       "    .dataframe thead th {\n",
       "        text-align: right;\n",
       "    }\n",
       "</style>\n",
       "<table border=\"1\" class=\"dataframe\">\n",
       "  <thead>\n",
       "    <tr style=\"text-align: right;\">\n",
       "      <th></th>\n",
       "      <th>tree canopy %</th>\n",
       "      <th>grass/shrub %</th>\n",
       "      <th>bare earth %</th>\n",
       "      <th>water %</th>\n",
       "      <th>buildings %</th>\n",
       "      <th>other paved surfaces %</th>\n",
       "      <th>median_t</th>\n",
       "      <th>prediction</th>\n",
       "      <th>_merge</th>\n",
       "    </tr>\n",
       "    <tr>\n",
       "      <th>index</th>\n",
       "      <th></th>\n",
       "      <th></th>\n",
       "      <th></th>\n",
       "      <th></th>\n",
       "      <th></th>\n",
       "      <th></th>\n",
       "      <th></th>\n",
       "      <th></th>\n",
       "      <th></th>\n",
       "    </tr>\n",
       "  </thead>\n",
       "  <tbody>\n",
       "    <tr>\n",
       "      <th>69</th>\n",
       "      <td>0.007514</td>\n",
       "      <td>0.020490</td>\n",
       "      <td>0.0</td>\n",
       "      <td>0.0</td>\n",
       "      <td>0.805968</td>\n",
       "      <td>0.166028</td>\n",
       "      <td>24.112165</td>\n",
       "      <td>24.076189</td>\n",
       "      <td>both</td>\n",
       "    </tr>\n",
       "    <tr>\n",
       "      <th>190</th>\n",
       "      <td>0.564034</td>\n",
       "      <td>0.369001</td>\n",
       "      <td>0.0</td>\n",
       "      <td>0.0</td>\n",
       "      <td>0.042996</td>\n",
       "      <td>0.023969</td>\n",
       "      <td>17.216916</td>\n",
       "      <td>17.176028</td>\n",
       "      <td>both</td>\n",
       "    </tr>\n",
       "    <tr>\n",
       "      <th>181</th>\n",
       "      <td>0.140164</td>\n",
       "      <td>0.127048</td>\n",
       "      <td>0.0</td>\n",
       "      <td>0.0</td>\n",
       "      <td>0.573295</td>\n",
       "      <td>0.159493</td>\n",
       "      <td>29.717943</td>\n",
       "      <td>29.780993</td>\n",
       "      <td>both</td>\n",
       "    </tr>\n",
       "    <tr>\n",
       "      <th>9</th>\n",
       "      <td>0.000000</td>\n",
       "      <td>0.260387</td>\n",
       "      <td>0.0</td>\n",
       "      <td>0.0</td>\n",
       "      <td>0.542058</td>\n",
       "      <td>0.197555</td>\n",
       "      <td>19.374901</td>\n",
       "      <td>19.351244</td>\n",
       "      <td>both</td>\n",
       "    </tr>\n",
       "    <tr>\n",
       "      <th>127</th>\n",
       "      <td>0.365624</td>\n",
       "      <td>0.022708</td>\n",
       "      <td>0.0</td>\n",
       "      <td>0.0</td>\n",
       "      <td>0.565003</td>\n",
       "      <td>0.046665</td>\n",
       "      <td>28.547405</td>\n",
       "      <td>28.639071</td>\n",
       "      <td>both</td>\n",
       "    </tr>\n",
       "  </tbody>\n",
       "</table>\n",
       "</div>"
      ],
      "text/plain": [
       "       tree canopy %  grass/shrub %  bare earth %  water %  buildings %  \\\n",
       "index                                                                     \n",
       "69          0.007514       0.020490           0.0      0.0     0.805968   \n",
       "190         0.564034       0.369001           0.0      0.0     0.042996   \n",
       "181         0.140164       0.127048           0.0      0.0     0.573295   \n",
       "9           0.000000       0.260387           0.0      0.0     0.542058   \n",
       "127         0.365624       0.022708           0.0      0.0     0.565003   \n",
       "\n",
       "       other paved surfaces %   median_t  prediction _merge  \n",
       "index                                                        \n",
       "69                   0.166028  24.112165   24.076189   both  \n",
       "190                  0.023969  17.216916   17.176028   both  \n",
       "181                  0.159493  29.717943   29.780993   both  \n",
       "9                    0.197555  19.374901   19.351244   both  \n",
       "127                  0.046665  28.547405   28.639071   both  "
      ]
     },
     "execution_count": 152,
     "metadata": {},
     "output_type": "execute_result"
    }
   ],
   "source": [
    "# merge the x_test and prediction outcome\n",
    "x_test_index = x_test.reset_index(level=0)\n",
    "prediction =x_test_index.merge(test_pre, left_index=True, right_index=True, indicator = True)\n",
    "prediction_index = prediction.set_index('index')\n",
    "prediction_index.head()"
   ]
  }
 ],
 "metadata": {
  "kernelspec": {
   "display_name": "Python 3 (ipykernel)",
   "language": "python",
   "name": "python3"
  },
  "language_info": {
   "codemirror_mode": {
    "name": "ipython",
    "version": 3
   },
   "file_extension": ".py",
   "mimetype": "text/x-python",
   "name": "python",
   "nbconvert_exporter": "python",
   "pygments_lexer": "ipython3",
   "version": "3.8.12"
  },
  "toc": {
   "base_numbering": 1,
   "nav_menu": {},
   "number_sections": true,
   "sideBar": true,
   "skip_h1_title": false,
   "title_cell": "Table of Contents",
   "title_sidebar": "Contents",
   "toc_cell": false,
   "toc_position": {},
   "toc_section_display": true,
   "toc_window_display": false
  }
 },
 "nbformat": 4,
 "nbformat_minor": 5
}
